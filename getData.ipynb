{
 "cells": [
  {
   "cell_type": "code",
   "execution_count": null,
   "metadata": {},
   "outputs": [],
   "source": [
    "import requests\n",
    "from bs4 import BeautifulSoup\n",
    "import json\n",
    "import os"
   ]
  },
  {
   "cell_type": "code",
   "execution_count": null,
   "metadata": {},
   "outputs": [],
   "source": [
    "#load\n",
    "f = open('data.json')\n",
    "games = json.load(f)"
   ]
  },
  {
   "cell_type": "code",
   "execution_count": null,
   "metadata": {},
   "outputs": [],
   "source": [
    "more = True\n",
    "initial = True\n",
    "last = 0\n",
    "games = []\n",
    "\n",
    "while True:\n",
    "  if initial:\n",
    "    data = requests.get(f'https://api.steampowered.com/IStoreService/GetAppList/v1/?access_token={os.environ['TOKEN']}&include_games=true&max_results=50000')\n",
    "    initial = False\n",
    "  else:\n",
    "    data = requests.get(f'https://api.steampowered.com/IStoreService/GetAppList/v1/?access_token={os.environ['TOKEN']}&include_games=true&last_appid={str(last)}&max_results=50000')\n",
    "  data = data.json()['response']\n",
    "  games += data['apps']\n",
    "  if 'have_more_results' not in data:\n",
    "    break\n",
    "  if data['have_more_results'] == False:\n",
    "    break\n",
    "  last = data['last_appid']"
   ]
  },
  {
   "cell_type": "code",
   "execution_count": null,
   "metadata": {},
   "outputs": [],
   "source": [
    "cookies = dict(birthtime=\"-2208959999\")\n",
    "for entry in games:\n",
    "  appid = entry['appid']\n",
    "  if appid <= last:\n",
    "    continue\n",
    "  page = requests.get(f'https://store.steampowered.com/app/{str(appid)}')\n",
    "  soup = BeautifulSoup(page.content, \"html.parser\")\n",
    "  tagclass = soup.find(class_=\"glance_tags popular_tags\")\n",
    "  if tagclass == None:\n",
    "    entry[\"tags\"] = []\n",
    "    continue\n",
    "  tags = [tag.get_text() for tag in tagclass.find_all(\"a\")]\n",
    "  for i in range(len(tags)):\n",
    "    tags[i] = tags[i].replace(\"\\r\",\"\")\n",
    "    tags[i] = tags[i].replace(\"\\n\",\"\")\n",
    "    tags[i] = tags[i].replace(\"\\t\",\"\")\n",
    "  entry[\"tags\"] = tags\n",
    "  last = appid"
   ]
  },
  {
   "cell_type": "code",
   "execution_count": null,
   "metadata": {},
   "outputs": [],
   "source": [
    "with open(\"data.json\", \"w\") as outfile:\n",
    "  json.dump(games, outfile)"
   ]
  }
 ],
 "metadata": {
  "kernelspec": {
   "display_name": "Python 3",
   "language": "python",
   "name": "python3"
  },
  "language_info": {
   "name": "python",
   "version": "3.7.9 (default, Nov 10 2020, 12:37:27) \n[Clang 12.0.0 (clang-1200.0.32.2)]"
  },
  "orig_nbformat": 4,
  "vscode": {
   "interpreter": {
    "hash": "d346f0a60cb0c78e76006c964b456ad1c3fb8674305acac10ce94236116eef0b"
   }
  }
 },
 "nbformat": 4,
 "nbformat_minor": 2
}
