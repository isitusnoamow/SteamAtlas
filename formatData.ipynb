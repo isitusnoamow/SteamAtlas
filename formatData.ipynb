{
 "cells": [
  {
   "cell_type": "code",
   "execution_count": null,
   "metadata": {},
   "outputs": [],
   "source": [
    "import json\n",
    "import itertools"
   ]
  },
  {
   "cell_type": "code",
   "execution_count": null,
   "metadata": {},
   "outputs": [],
   "source": [
    "f = open('data.json')\n",
    "data = json.load(f)"
   ]
  },
  {
   "cell_type": "code",
   "execution_count": null,
   "metadata": {},
   "outputs": [],
   "source": [
    "tags = []\n",
    "for entry in data:\n",
    "  if 'tags' not in entry:\n",
    "    continue\n",
    "  for tag in entry['tags']:\n",
    "    if tag not in tags:\n",
    "      tags.append(tag)"
   ]
  },
  {
   "cell_type": "code",
   "execution_count": null,
   "metadata": {},
   "outputs": [],
   "source": [
    "prelinks = {}\n",
    "for entry in data:\n",
    "  if 'tags' not in entry:\n",
    "    continue\n",
    "  if len(entry['tags']) < 2:\n",
    "    continue\n",
    "  for pair in list(itertools.combinations(sorted(entry['tags'],key=lambda v: v.upper()),2)):\n",
    "    if pair not in prelinks:\n",
    "      prelinks[pair] = 1\n",
    "    else:\n",
    "      prelinks[pair] += 1"
   ]
  },
  {
   "cell_type": "code",
   "execution_count": null,
   "metadata": {},
   "outputs": [],
   "source": [
    "links = []\n",
    "for prelink in prelinks:\n",
    "  link = {'source':prelink[0],'target':prelink[1],'value':prelinks[prelink]}\n",
    "  links.append(link)"
   ]
  },
  {
   "cell_type": "code",
   "execution_count": null,
   "metadata": {},
   "outputs": [],
   "source": [
    "nodes = []\n",
    "for tag in tags:\n",
    "  node = {'id': tag}\n",
    "  nodes.append(node)"
   ]
  },
  {
   "cell_type": "code",
   "execution_count": null,
   "metadata": {},
   "outputs": [],
   "source": [
    "steam = {'nodes':nodes,'links':links}"
   ]
  },
  {
   "cell_type": "code",
   "execution_count": null,
   "metadata": {},
   "outputs": [],
   "source": [
    "with open(\"steam.json\", \"w\") as outfile:\n",
    "  json.dump(steam, outfile)"
   ]
  }
 ],
 "metadata": {
  "language_info": {
   "name": "python"
  },
  "orig_nbformat": 4
 },
 "nbformat": 4,
 "nbformat_minor": 2
}
